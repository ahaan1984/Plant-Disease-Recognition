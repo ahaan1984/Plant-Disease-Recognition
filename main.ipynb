{
 "cells": [
  {
   "cell_type": "code",
   "execution_count": 6,
   "metadata": {},
   "outputs": [],
   "source": [
    "import math\n",
    "import os\n",
    "import numpy as np\n",
    "import pandas as pd\n",
    "import matplotlib.pyplot as plt\n",
    "import sklearn as sk\n",
    "import seaborn as sns\n",
    "from tqdm import tqdm\n",
    "from PIL import Image"
   ]
  },
  {
   "cell_type": "code",
   "execution_count": 3,
   "metadata": {},
   "outputs": [],
   "source": [
    "import torch\n",
    "import torch.nn as nn \n",
    "import torch.nn.functional as F\n",
    "from torchvision.transforms import ToTensor\n",
    "from torchvision.io import read_image\n",
    "from torch.utils.data import DataLoader, Dataset \n",
    "from torch.optim import AdamW as AdamW"
   ]
  },
  {
   "cell_type": "code",
   "execution_count": 26,
   "metadata": {},
   "outputs": [],
   "source": [
    "class PlantDiseaseDataSet(Dataset):\n",
    "    def __init__(self, path, image_size=(256, 256), channels=(\"RGB\"), \n",
    "                 img_dir=\"Train\", transform=None, target_transform=None):\n",
    "        self.__image_labels = []\n",
    "        self.image_size = image_size\n",
    "        self.channels = channels\n",
    "        self.img_dir = img_dir\n",
    "        self.transform = transform\n",
    "        self.target_transform = target_transform\n",
    "\n",
    "        if os.path.exists(path):\n",
    "            self.labels = os.listdir(path)\n",
    "            for label in self.labels:\n",
    "                label_path = os.path.join(path, label)\n",
    "                if os.path.isdir(label_path):\n",
    "                    files = os.listdir(label_path)\n",
    "                    for file in files:\n",
    "                        if file.endswith(\"jpg\"):\n",
    "                            image_path = os.path.join(label_path, file)\n",
    "                            self.__image_labels.append((image_path, label))\n",
    "                        else:\n",
    "                            pass\n",
    "                else:\n",
    "                    pass\n",
    "        else:\n",
    "            pass\n",
    "\n",
    "    def __len__(self):\n",
    "        return self.__image_labels\n",
    "    \n",
    "    def __getitem__(self, idx):\n",
    "        path, label = self.__image_labels[idx]\n",
    "        image = read_image(path)\n",
    "        label = self.labels.index(label)\n",
    "        if self.transform:\n",
    "            image = self.transform(image)\n",
    "        if self.target_transform:\n",
    "            label = self.target_transform(label)\n",
    "        return image, label\n",
    "        "
   ]
  },
  {
   "cell_type": "code",
   "execution_count": 27,
   "metadata": {},
   "outputs": [],
   "source": [
    "trainpath = \"E:\\\\Flower-Disease-Recognition\\\\Train\\\\Train\"\n",
    "trainset = PlantDiseaseDataSet(path=trainpath)"
   ]
  },
  {
   "cell_type": "code",
   "execution_count": 30,
   "metadata": {},
   "outputs": [],
   "source": [
    "def plot_images(rows, cols, indexes, class_=0):\n",
    "    min_index = min(indexes)\n",
    "    max_index = max(indexes)\n",
    "    fig = plt.figure(figsize=(3*cols, 3*rows))\n",
    "    for i in range(*indexes):\n",
    "        image, label = trainset[i]\n",
    "        if label == class_:\n",
    "            ax = fig.add_subplot(rows, cols, (i - min_index)+1)\n",
    "            ax.imshow(image.permute(1, 2, 0))\n",
    "            ax.xaxis.set_visible(False)\n",
    "            ax.yaxis.set_visible(False)\n",
    "\n",
    "    fig.text(s=f\"{trainset.labels[class_]} leaves\", x=0.125, y=0.9, fontweight=\"bold\", fontfamily=\"serif\", fontsize=20)\n",
    "    fig.show()"
   ]
  },
  {
   "cell_type": "code",
   "execution_count": null,
   "metadata": {},
   "outputs": [],
   "source": []
  }
 ],
 "metadata": {
  "kernelspec": {
   "display_name": "Python 3",
   "language": "python",
   "name": "python3"
  },
  "language_info": {
   "codemirror_mode": {
    "name": "ipython",
    "version": 3
   },
   "file_extension": ".py",
   "mimetype": "text/x-python",
   "name": "python",
   "nbconvert_exporter": "python",
   "pygments_lexer": "ipython3",
   "version": "3.11.6"
  }
 },
 "nbformat": 4,
 "nbformat_minor": 2
}
